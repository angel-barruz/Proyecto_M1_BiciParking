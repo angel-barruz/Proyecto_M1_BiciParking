{
 "cells": [
  {
   "cell_type": "code",
   "execution_count": 1,
   "id": "8934ed51",
   "metadata": {},
   "outputs": [],
   "source": [
    "import pandas as pd\n"
   ]
  },
  {
   "cell_type": "code",
   "execution_count": 2,
   "id": "d6e6b7a8",
   "metadata": {},
   "outputs": [],
   "source": [
    "# Data Frame Bici Mad\n",
    "def Bici_Mad():\n",
    "    df_bm = pd.read_csv('df_bm.csv')\n",
    "    return df\n"
   ]
  },
  {
   "cell_type": "code",
   "execution_count": 3,
   "id": "9f388388",
   "metadata": {},
   "outputs": [],
   "source": [
    "# Importamos tablas de Parking de la Comunidad de Madrid en formato CSV"
   ]
  },
  {
   "cell_type": "code",
   "execution_count": 4,
   "id": "2fdcb701",
   "metadata": {},
   "outputs": [],
   "source": [
    "# Aparcamientos Disuasorios\n",
    "def disuasorios():\n",
    "    df_1 = pd.read_csv('../csv/publicos-dis.csv', sep=';')\n",
    "    df_1.columns\n",
    "    df_1_n = df_1[['NOMBRE', 'LATITUD', 'LONGITUD']]\n",
    "    df_1_n['Tipo'] = 'Disuasorio'\n",
    "    return df_1\n"
   ]
  },
  {
   "cell_type": "code",
   "execution_count": 5,
   "id": "2f6a2481",
   "metadata": {},
   "outputs": [],
   "source": [
    "# Parkings públicos municipales\n",
    "def publicos_municipales():\n",
    "    df_2 = pd.read_csv('../csv/parkings.csv', sep=';')\n",
    "    df_2.columns\n",
    "    df_2_n = df_2[['NOMBRE', 'LATITUD', 'LONGITUD']]\n",
    "    df_2_n['Tipo'] = 'Publicos Municipales'\n",
    "    return df_2\n",
    "\n"
   ]
  },
  {
   "cell_type": "code",
   "execution_count": 6,
   "id": "8d8f5099",
   "metadata": {},
   "outputs": [],
   "source": [
    "# Parkings Públicos Residentes\n",
    "def publicos_residentes():\n",
    "    df_3 = pd.read_csv('../csv/residentes.csv', sep=';')\n",
    "    df_3.columns\n",
    "    df_3_n = df_3[['NOMBRE', 'LATITUD', 'LONGITUD']]\n",
    "    df_3_n['Tipo'] = 'Residentes'\n",
    "    return df_3\n"
   ]
  },
  {
   "cell_type": "code",
   "execution_count": 7,
   "id": "e76945dc",
   "metadata": {},
   "outputs": [],
   "source": [
    "# Concat de las 3 Tablas de Parking Municipales en 1\n",
    "def parking_madrid():\n",
    "    parking_mad = pd.concat([df_1_n, df_2_n, df_3_n], axis=0)\n",
    "    parking_mad['key'] = 0\n",
    "    return parking_mad"
   ]
  },
  {
   "cell_type": "code",
   "execution_count": 8,
   "id": "fe5cf4a4",
   "metadata": {},
   "outputs": [],
   "source": [
    "# Separación de Latitud y Longitud de bici_mad\n",
    "def separacion():\n",
    "    df_bm[['LONGITUD','LATITUD']]=df_bm['geometry.coordinates'].str.split(',',expand=True)\n",
    "    return df_bm\n"
   ]
  },
  {
   "cell_type": "code",
   "execution_count": 9,
   "id": "9a4ad8a7",
   "metadata": {},
   "outputs": [],
   "source": [
    "# Limpieza de datos \"[]\"\n",
    "def limpieza(LATITUD, LONGITUD):\n",
    "    df_bm['LATITUD'] = df_bm['LATITUD'].str.replace(\"]\",\"\", regex=True)\n",
    "    df_bm['LONGITUD'] = df_bm['LONGITUD'].str.replace(\"[\",\"\",regex=True)\n",
    "    return df_bm"
   ]
  },
  {
   "cell_type": "code",
   "execution_count": 10,
   "id": "e76f942f",
   "metadata": {},
   "outputs": [],
   "source": [
    "# Convertir string a float\n",
    "def conversion (LATITUD, LONGITUD):\n",
    "    df_bm['LATITUD'] = df_bm['LATITUD'].astype(float)\n",
    "    df_bm['LONGITUD'] = df_bm['LONGITUD'].astype(float)\n",
    "    return df_bm"
   ]
  },
  {
   "cell_type": "code",
   "execution_count": 11,
   "id": "8e9cdcb2",
   "metadata": {},
   "outputs": [],
   "source": [
    "# Renombramos, sacamos las tablas con las mismas columnas para poder hacer Merge y establecemos key ficticia para punto de unión\n",
    "def rename():\n",
    "    bici_Mad = df_bm.columns\n",
    "    bici_Mad = df_bm.rename(columns = {'name':'NOMBRE'}, inplace = True)\n",
    "    bici_Mad = df_bm[['NOMBRE', 'LATITUD', 'LONGITUD']]\n",
    "    bici_Mad['key'] = 0\n",
    "    return bici_Mad"
   ]
  },
  {
   "cell_type": "code",
   "execution_count": 12,
   "id": "9d689668",
   "metadata": {},
   "outputs": [],
   "source": [
    "#Tabla única\n",
    "def tabla_unica():\n",
    "    pm_bm = parking_mad.merge(bici_Mad, on='key', how='left')\n",
    "    return pm_bm"
   ]
  },
  {
   "cell_type": "code",
   "execution_count": 13,
   "id": "708e1f8f",
   "metadata": {},
   "outputs": [],
   "source": [
    "#Cálculo Distancias\n",
    "def distance_meters(lat_start, long_start, lat_finish, long_finish):\n",
    "    # return the distance in metres between to latitude/longitude pair point in degrees (i.e.: 40.392436 / -3.6994487)\n",
    "    start = to_mercator(lat_start, long_start)\n",
    "    finish = to_mercator(lat_finish, long_finish)\n",
    "    return start.distance(finish)"
   ]
  },
  {
   "cell_type": "code",
   "execution_count": 14,
   "id": "8147ab51",
   "metadata": {},
   "outputs": [],
   "source": [
    "def to_mercator(lat, long):\n",
    "    # transform latitude/longitude data in degrees to pseudo-mercator coordinates in metres\n",
    "    c = gpd.GeoSeries([Point(lat, long)], crs=4326)\n",
    "    c = c.to_crs(3857)\n",
    "    return c\n"
   ]
  },
  {
   "cell_type": "code",
   "execution_count": 15,
   "id": "6023951c",
   "metadata": {},
   "outputs": [],
   "source": [
    "# Distancia en Metros\n",
    "def distancia_m():\n",
    "    pm_bm['Diferencia'] = pm_bm.apply(lambda x: distance_meters(x['LATITUD_x'],\n",
    "                                                            x['LONGITUD_x'],\n",
    "                                                            x['LATITUD_y'],\n",
    "                                                            x['LONGITUD_y'])\n",
    "                                                            , axis=1)\n",
    "    return pm_bm\n"
   ]
  },
  {
   "cell_type": "code",
   "execution_count": 16,
   "id": "3bb9c783",
   "metadata": {},
   "outputs": [],
   "source": [
    "# CSV del Dataframe  pm_bm\n",
    "def pm_bm():\n",
    "    pm_bm = pd.read_csv('../csv/pm_bm.csv')\n",
    "    return pm_bm\n"
   ]
  },
  {
   "cell_type": "code",
   "execution_count": 17,
   "id": "45d4afa0",
   "metadata": {},
   "outputs": [],
   "source": [
    "# Calculamos el minimo de distancia\n",
    "def diferencia_min():\n",
    "    pm_bm.groupby([\"Diferencia\"]).min()\n",
    "    return pm_bm"
   ]
  },
  {
   "cell_type": "code",
   "execution_count": 18,
   "id": "b22401f5",
   "metadata": {},
   "outputs": [],
   "source": [
    "# Distancia mínima respecto a un punto\n",
    "def min_un_punto():\n",
    "    pm_bm = pm_bm.sort_values(by=['NOMBRE_x', 'Diferencia'])\n",
    "    return pm_bm"
   ]
  },
  {
   "cell_type": "code",
   "execution_count": 26,
   "id": "361ea37f",
   "metadata": {},
   "outputs": [
    {
     "data": {
      "text/plain": [
       "<function __main__.un_valor()>"
      ]
     },
     "execution_count": 26,
     "metadata": {},
     "output_type": "execute_result"
    }
   ],
   "source": [
    "# Filtro de una linea\n",
    "def un_valor():\n",
    "    pm_bm = pm_bm.sort_values(by=['NOMBRE_x', 'Diferencia'])\n",
    "    return pm_bm\n",
    "if pm_bm == \"NOMBRE_x\":\n",
    "    print (input (\"Introduzca destino\"))\n"
   ]
  },
  {
   "cell_type": "code",
   "execution_count": null,
   "id": "5b73d67b",
   "metadata": {},
   "outputs": [],
   "source": []
  }
 ],
 "metadata": {
  "kernelspec": {
   "display_name": "Python [conda env:p_01]",
   "language": "python",
   "name": "conda-env-p_01-py"
  },
  "language_info": {
   "codemirror_mode": {
    "name": "ipython",
    "version": 3
   },
   "file_extension": ".py",
   "mimetype": "text/x-python",
   "name": "python",
   "nbconvert_exporter": "python",
   "pygments_lexer": "ipython3",
   "version": "3.9.12"
  }
 },
 "nbformat": 4,
 "nbformat_minor": 5
}
